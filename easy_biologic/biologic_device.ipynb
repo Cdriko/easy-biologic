{
 "cells": [
  {
   "cell_type": "markdown",
   "metadata": {},
   "source": [
    "# Biologic Device\n",
    "Library for connecting to and controlling a Biologic device."
   ]
  },
  {
   "cell_type": "markdown",
   "metadata": {},
   "source": [
    "# API"
   ]
  },
  {
   "cell_type": "code",
   "execution_count": 2,
   "metadata": {},
   "outputs": [],
   "source": [
    "import logging\n",
    "import ctypes as c\n",
    "import platform\n",
    "\n",
    "import ec_lib as ecl"
   ]
  },
  {
   "cell_type": "markdown",
   "metadata": {},
   "source": [
    "# Biologic Device"
   ]
  },
  {
   "cell_type": "code",
   "execution_count": null,
   "metadata": {},
   "outputs": [],
   "source": [
    "class Biologic_Device:\n",
    "    \"\"\"\n",
    "    Represents a Biologic Device\n",
    "    \"\"\"\n",
    "    \n",
    "    def __init__( \n",
    "        self,\n",
    "        address,\n",
    "        timeout = 5\n",
    "    ):\n",
    "        \"\"\"\n",
    "        :param address: The address of the device to connect to.\n",
    "        :param timeout: Timeout in seconds. [Defualt: 5]\n",
    "        \"\"\"\n",
    "        self.__address = address\n",
    "        self.timeout = timeout\n",
    "        \n",
    "        self.__idn = None\n",
    "        self.__info = None\n",
    "    \n",
    "    @property\n",
    "    def address( self ):\n",
    "        return self.__address\n",
    "    \n",
    "    \n",
    "    @property\n",
    "    def idn( self ):\n",
    "        return self.__idn\n",
    "    \n",
    "    \n",
    "    @property\n",
    "    def info( self ):\n",
    "        return self.__info\n",
    "    \n",
    "    \n",
    "    def connect( self ):\n",
    "        if self.idn is not None:\n",
    "            raise RuntimeError( 'Device already connected.' )\n",
    "        \n",
    "        ( idn, info ) = ecl.connect( self.address, self.timeout )\n",
    "        \n",
    "        self.__idn = idn\n",
    "        self.__info = info\n",
    "        \n",
    "        \n",
    "    def disconnect( self ):\n",
    "        if self.idn is None:\n",
    "            raise RuntimeError( 'Device is not connected.' )\n",
    "        \n",
    "        ecl.disconnect( self.idn )\n",
    "        \n",
    "        self.__idn = None\n",
    "        self.__info = None\n",
    "        \n",
    "        \n",
    "    def is_connected( self ):\n",
    "        return ecl.is_connected( self.idn )\n",
    "        "
   ]
  },
  {
   "cell_type": "markdown",
   "metadata": {},
   "source": [
    "# Work"
   ]
  },
  {
   "cell_type": "code",
   "execution_count": 3,
   "metadata": {},
   "outputs": [
    {
     "data": {
      "text/plain": [
       "['BL_Connect',\n",
       " 'BL_ConvertNumericIntoSingle',\n",
       " 'BL_DefineBoolParameter',\n",
       " 'BL_DefineIntParameter',\n",
       " 'BL_DefineSglParameter',\n",
       " 'BL_Disconnect',\n",
       " 'BL_GetChannelInfos',\n",
       " 'BL_GetChannelsPlugged',\n",
       " 'BL_GetCurrentValues',\n",
       " 'BL_GetData',\n",
       " 'BL_IsChannelPlugged',\n",
       " 'BL_LoadTechnique',\n",
       " 'BL_StartChannel',\n",
       " 'BL_StartChannels',\n",
       " 'BL_StopChannel',\n",
       " 'BL_StopChannels',\n",
       " 'BL_TestConnection',\n",
       " 'BL_UpdateParameters',\n",
       " 'ChannelInfo',\n",
       " 'CurrentValues',\n",
       " 'DeviceInfo',\n",
       " 'EccParam',\n",
       " 'EccParams',\n",
       " '__builtins__',\n",
       " '__cached__',\n",
       " '__dll',\n",
       " '__doc__',\n",
       " '__file__',\n",
       " '__loader__',\n",
       " '__name__',\n",
       " '__package__',\n",
       " '__spec__',\n",
       " 'arch',\n",
       " 'bits',\n",
       " 'c',\n",
       " 'channel_info',\n",
       " 'connect',\n",
       " 'create_parameter',\n",
       " 'disconnect',\n",
       " 'get_channels',\n",
       " 'get_data',\n",
       " 'get_values',\n",
       " 'is_channel_connected',\n",
       " 'is_connected',\n",
       " 'load_technique',\n",
       " 'logging',\n",
       " 'platform',\n",
       " 'raise_exception',\n",
       " 'start_channel',\n",
       " 'start_channels',\n",
       " 'stop_channel',\n",
       " 'stop_channels',\n",
       " 'update_parameters']"
      ]
     },
     "execution_count": 3,
     "metadata": {},
     "output_type": "execute_result"
    }
   ],
   "source": [
    "dir( ecl )"
   ]
  },
  {
   "cell_type": "code",
   "execution_count": null,
   "metadata": {},
   "outputs": [],
   "source": []
  }
 ],
 "metadata": {
  "kernelspec": {
   "display_name": "Python 3",
   "language": "python",
   "name": "python3"
  },
  "language_info": {
   "codemirror_mode": {
    "name": "ipython",
    "version": 3
   },
   "file_extension": ".py",
   "mimetype": "text/x-python",
   "name": "python",
   "nbconvert_exporter": "python",
   "pygments_lexer": "ipython3",
   "version": "3.7.0"
  }
 },
 "nbformat": 4,
 "nbformat_minor": 2
}
