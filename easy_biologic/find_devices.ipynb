{
 "cells": [
  {
   "cell_type": "markdown",
   "metadata": {},
   "source": [
    "# Find Devices\n",
    "Convenience script for finding Biologic devices."
   ]
  },
  {
   "cell_type": "code",
   "execution_count": 13,
   "metadata": {},
   "outputs": [],
   "source": [
    "import argparse\n",
    "\n",
    "from .lib import ec_find as ecf"
   ]
  },
  {
   "cell_type": "code",
   "execution_count": 5,
   "metadata": {},
   "outputs": [
    {
     "data": {
      "text/plain": [
       "_StoreAction(option_strings=['--connection', '-conn', '-c'], dest='conn', nargs=None, const=None, default=None, type=None, choices=['usb', 'eth', 'ethernet'], help='The type of connection to use.', metavar=None)"
      ]
     },
     "execution_count": 5,
     "metadata": {},
     "output_type": "execute_result"
    }
   ],
   "source": [
    "def run():\n",
    "    # parse command line\n",
    "    parser = argparse.ArgumentParser(\n",
    "        description = 'Find BioLogic devices.'\n",
    "    )\n",
    "\n",
    "    parser.add_argument( \n",
    "        '--connection', '-conn', '-c',\n",
    "        dest = 'conn',\n",
    "        choices = [ 'usb', 'eth' ],\n",
    "        action = 'store',\n",
    "        help = 'The type of connection to use.'\n",
    "    )\n",
    "\n",
    "    args = parser.parse_args()\n",
    "\n",
    "    # find and display devices\n",
    "    devs = ecf.find_devices( args.conn )\n",
    "    for device in devs:\n",
    "        desc = '{}: {}'.format(\n",
    "            device.kind,\n",
    "            device.connection_string\n",
    "        )\n",
    "\n",
    "        print( desc )"
   ]
  },
  {
   "cell_type": "code",
   "execution_count": null,
   "metadata": {},
   "outputs": [],
   "source": [
    "if __name__ == '__main__':\n",
    "    run()"
   ]
  }
 ],
 "metadata": {
  "kernelspec": {
   "display_name": "Python 3",
   "language": "python",
   "name": "python3"
  },
  "language_info": {
   "codemirror_mode": {
    "name": "ipython",
    "version": 3
   },
   "file_extension": ".py",
   "mimetype": "text/x-python",
   "name": "python",
   "nbconvert_exporter": "python",
   "pygments_lexer": "ipython3",
   "version": "3.7.0"
  }
 },
 "nbformat": 4,
 "nbformat_minor": 2
}
